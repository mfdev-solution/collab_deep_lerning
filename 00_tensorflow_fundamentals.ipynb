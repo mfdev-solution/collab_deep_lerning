{
  "nbformat": 4,
  "nbformat_minor": 0,
  "metadata": {
    "colab": {
      "provenance": [],
      "authorship_tag": "ABX9TyPERotldqyKhTdksKGA62YS",
      "include_colab_link": true
    },
    "kernelspec": {
      "name": "python3",
      "display_name": "Python 3"
    },
    "language_info": {
      "name": "python"
    }
  },
  "cells": [
    {
      "cell_type": "markdown",
      "metadata": {
        "id": "view-in-github",
        "colab_type": "text"
      },
      "source": [
        "<a href=\"https://colab.research.google.com/github/mfdev-solution/collab_deep_lerning/blob/main/00_tensorflow_fundamentals.ipynb\" target=\"_parent\"><img src=\"https://colab.research.google.com/assets/colab-badge.svg\" alt=\"Open In Colab\"/></a>"
      ]
    },
    {
      "cell_type": "code",
      "execution_count": null,
      "metadata": {
        "id": "ZOAK-SEDzHeE"
      },
      "outputs": [],
      "source": []
    },
    {
      "cell_type": "code",
      "source": [],
      "metadata": {
        "id": "a7TzTeUf0ZFb"
      },
      "execution_count": null,
      "outputs": []
    },
    {
      "cell_type": "markdown",
      "source": [
        "More specificatlly ,we're going to cover:\n",
        "* introduction to tensor\n",
        "* Gtting information from tensors\n",
        "* Manipulation tensors \n",
        "* Tensors and Numpy\n",
        "* useing @tf.funciton (a way to speed up your regular python function s)\n",
        "* Using GPUs with TensorFlow\n",
        "* Exercises to try for yourself"
      ],
      "metadata": {
        "id": "3fBa3ortzfiQ"
      }
    },
    {
      "cell_type": "markdown",
      "source": [
        "#introduction t otensors "
      ],
      "metadata": {
        "id": "3f1wX7Az0xsk"
      }
    },
    {
      "cell_type": "code",
      "source": [
        "import tensorflow as tf\n",
        "print(tf.__version__)"
      ],
      "metadata": {
        "id": "TA8gmUtj0hAN",
        "colab": {
          "base_uri": "https://localhost:8080/"
        },
        "outputId": "2d826a25-9589-4588-ddfd-26a58b5d55b1"
      },
      "execution_count": null,
      "outputs": [
        {
          "output_type": "stream",
          "name": "stdout",
          "text": [
            "2.9.2\n"
          ]
        }
      ]
    },
    {
      "cell_type": "code",
      "source": [
        "#creating tensors with tf.constant()\n",
        "scalar = tf.constant(7)\n",
        "scalar"
      ],
      "metadata": {
        "id": "VFELo_Ye0nMJ",
        "colab": {
          "base_uri": "https://localhost:8080/"
        },
        "outputId": "2192628c-e9b6-44ef-cbb3-b5ca95a79d44"
      },
      "execution_count": null,
      "outputs": [
        {
          "output_type": "execute_result",
          "data": {
            "text/plain": [
              "<tf.Tensor: shape=(), dtype=int32, numpy=7>"
            ]
          },
          "metadata": {},
          "execution_count": 4
        }
      ]
    },
    {
      "cell_type": "code",
      "source": [
        "#check number of dimensions\n",
        "scalar.ndim"
      ],
      "metadata": {
        "id": "cvjpNINp1wbq",
        "colab": {
          "base_uri": "https://localhost:8080/"
        },
        "outputId": "edc2a6d1-e518-471d-a83f-dbf2fb818656"
      },
      "execution_count": null,
      "outputs": [
        {
          "output_type": "execute_result",
          "data": {
            "text/plain": [
              "0"
            ]
          },
          "metadata": {},
          "execution_count": 5
        }
      ]
    },
    {
      "cell_type": "code",
      "source": [
        "#create a vector\n",
        "vector = tf.constant([10,10])\n",
        "vector.ndim"
      ],
      "metadata": {
        "id": "VwgSFvGu15QZ",
        "colab": {
          "base_uri": "https://localhost:8080/"
        },
        "outputId": "29d41347-75d7-433a-ebea-35079910ad43"
      },
      "execution_count": null,
      "outputs": [
        {
          "output_type": "execute_result",
          "data": {
            "text/plain": [
              "1"
            ]
          },
          "metadata": {},
          "execution_count": 6
        }
      ]
    },
    {
      "cell_type": "code",
      "source": [
        "from numpy import float32\n",
        "#create a matrix \n",
        "matrix = tf.constant([[10,7],[20,3]])\n",
        "matrix.ndim\n",
        "another_matrix = tf.constant([[10.,7.],[4.,8.],[2,5]],dtype=float32)\n",
        "another_matrix.ndim"
      ],
      "metadata": {
        "id": "83KRZcW_2Nr3",
        "colab": {
          "base_uri": "https://localhost:8080/"
        },
        "outputId": "a705b58d-effb-4a9c-ac1d-b231624102a5"
      },
      "execution_count": null,
      "outputs": [
        {
          "output_type": "execute_result",
          "data": {
            "text/plain": [
              "2"
            ]
          },
          "metadata": {},
          "execution_count": 7
        }
      ]
    },
    {
      "cell_type": "code",
      "source": [
        "#tensor = ts.constant()"
      ],
      "metadata": {
        "id": "nVNDnpB13Jm1"
      },
      "execution_count": null,
      "outputs": []
    },
    {
      "cell_type": "code",
      "source": [
        "changeable_tensor = tf.Variable([10,7])\n",
        "unchangeable_tensor = tf.constant([10,8])\n",
        "changeable_tensor,unchangeable_tensor"
      ],
      "metadata": {
        "colab": {
          "base_uri": "https://localhost:8080/"
        },
        "id": "WtmEKhyx3Y7o",
        "outputId": "8604b4eb-7fba-44e3-b527-26b77a19ed95"
      },
      "execution_count": null,
      "outputs": [
        {
          "output_type": "execute_result",
          "data": {
            "text/plain": [
              "(<tf.Variable 'Variable:0' shape=(2,) dtype=int32, numpy=array([10,  7], dtype=int32)>,\n",
              " <tf.Tensor: shape=(2,), dtype=int32, numpy=array([10,  8], dtype=int32)>)"
            ]
          },
          "metadata": {},
          "execution_count": 9
        }
      ]
    },
    {
      "cell_type": "code",
      "source": [
        "changeable_tensor[0].assign(9)"
      ],
      "metadata": {
        "colab": {
          "base_uri": "https://localhost:8080/"
        },
        "id": "jzErQCqy-s2W",
        "outputId": "40476723-702e-4614-db50-58b86b11f451"
      },
      "execution_count": null,
      "outputs": [
        {
          "output_type": "execute_result",
          "data": {
            "text/plain": [
              "<tf.Variable 'UnreadVariable' shape=(2,) dtype=int32, numpy=array([9, 7], dtype=int32)>"
            ]
          },
          "metadata": {},
          "execution_count": 10
        }
      ]
    },
    {
      "cell_type": "markdown",
      "source": [
        "#Random tensors\n"
      ],
      "metadata": {
        "id": "g5t40bPm_6if"
      }
    },
    {
      "cell_type": "code",
      "source": [
        "from tensorflow._api.v2 import random\n",
        "#creating random tensors\n",
        "random_1 = tf.random.Generator.from_seed(40)\n",
        "random_1 = random_1.normal(shape=(3,2))\n",
        "random_1"
      ],
      "metadata": {
        "colab": {
          "base_uri": "https://localhost:8080/"
        },
        "id": "x1A_4tPV_ziU",
        "outputId": "f92c2ca5-e5cf-48ed-ebad-2f1a68c50131"
      },
      "execution_count": null,
      "outputs": [
        {
          "output_type": "execute_result",
          "data": {
            "text/plain": [
              "<tf.Tensor: shape=(3, 2), dtype=float32, numpy=\n",
              "array([[ 0.78953624,  0.53897345],\n",
              "       [-0.48535708,  0.74055266],\n",
              "       [ 0.31662667, -1.4391748 ]], dtype=float32)>"
            ]
          },
          "metadata": {},
          "execution_count": 11
        }
      ]
    },
    {
      "cell_type": "code",
      "source": [
        "#Shuffle a tensor \n",
        "not_shuffled = tf.constant([[10,7]\n",
        "                           ,[3,9]\n",
        "                           ,[2,5]])\n",
        "not_shuffled.ndim\n",
        " "
      ],
      "metadata": {
        "colab": {
          "base_uri": "https://localhost:8080/"
        },
        "id": "tTC02pyvDFV9",
        "outputId": "1f4ba2ed-932b-4e74-d957-ae97f0a8f2bf"
      },
      "execution_count": null,
      "outputs": [
        {
          "output_type": "execute_result",
          "data": {
            "text/plain": [
              "2"
            ]
          },
          "metadata": {},
          "execution_count": 12
        }
      ]
    },
    {
      "cell_type": "code",
      "source": [
        "tf.random.set_seed(42)\n",
        "tf.random.shuffle(not_shuffled,seed=42)"
      ],
      "metadata": {
        "id": "NpHZ5-0fGNaU",
        "colab": {
          "base_uri": "https://localhost:8080/"
        },
        "outputId": "d247b9e0-0777-4ff0-c4b5-dbdbff7a4451"
      },
      "execution_count": null,
      "outputs": [
        {
          "output_type": "execute_result",
          "data": {
            "text/plain": [
              "<tf.Tensor: shape=(3, 2), dtype=int32, numpy=\n",
              "array([[10,  7],\n",
              "       [ 3,  9],\n",
              "       [ 2,  5]], dtype=int32)>"
            ]
          },
          "metadata": {},
          "execution_count": 13
        }
      ]
    },
    {
      "cell_type": "code",
      "source": [
        "#creating a tensor of ones \n",
        "\n",
        "#import numpy as np\n",
        "tf.ones([5,4],dtype=float)"
      ],
      "metadata": {
        "id": "GAiP4-UEG0eZ",
        "colab": {
          "base_uri": "https://localhost:8080/"
        },
        "outputId": "3fa1708f-c31e-44b4-c91f-d945182cf920"
      },
      "execution_count": null,
      "outputs": [
        {
          "output_type": "execute_result",
          "data": {
            "text/plain": [
              "<tf.Tensor: shape=(5, 4), dtype=float32, numpy=\n",
              "array([[1., 1., 1., 1.],\n",
              "       [1., 1., 1., 1.],\n",
              "       [1., 1., 1., 1.],\n",
              "       [1., 1., 1., 1.],\n",
              "       [1., 1., 1., 1.]], dtype=float32)>"
            ]
          },
          "metadata": {},
          "execution_count": 14
        }
      ]
    },
    {
      "cell_type": "markdown",
      "source": [
        "### Turn Numpy arrays into tensors"
      ],
      "metadata": {
        "id": "puj36rr9HvZK"
      }
    },
    {
      "cell_type": "code",
      "source": [
        "import array\n",
        "import numpy as np\n",
        "np_array = np.arange(1,25 , dtype= np.int32)\n",
        "np_array"
      ],
      "metadata": {
        "colab": {
          "base_uri": "https://localhost:8080/"
        },
        "id": "JyohD2mcHrIu",
        "outputId": "c2c80942-3369-4767-b3a5-2a8a4556312f"
      },
      "execution_count": null,
      "outputs": [
        {
          "output_type": "execute_result",
          "data": {
            "text/plain": [
              "array([ 1,  2,  3,  4,  5,  6,  7,  8,  9, 10, 11, 12, 13, 14, 15, 16, 17,\n",
              "       18, 19, 20, 21, 22, 23, 24], dtype=int32)"
            ]
          },
          "metadata": {},
          "execution_count": 15
        }
      ]
    },
    {
      "cell_type": "code",
      "source": [
        "A = tf.constant(np_array,shape=(3,8))\n",
        "A\n",
        "B = tf.constant(np_array , shape=(3,4,2))\n",
        "B"
      ],
      "metadata": {
        "colab": {
          "base_uri": "https://localhost:8080/"
        },
        "id": "Kj_beyO_SsRg",
        "outputId": "c8c64d5d-05ab-470c-f5b0-8353858430bd"
      },
      "execution_count": null,
      "outputs": [
        {
          "output_type": "execute_result",
          "data": {
            "text/plain": [
              "<tf.Tensor: shape=(3, 4, 2), dtype=int32, numpy=\n",
              "array([[[ 1,  2],\n",
              "        [ 3,  4],\n",
              "        [ 5,  6],\n",
              "        [ 7,  8]],\n",
              "\n",
              "       [[ 9, 10],\n",
              "        [11, 12],\n",
              "        [13, 14],\n",
              "        [15, 16]],\n",
              "\n",
              "       [[17, 18],\n",
              "        [19, 20],\n",
              "        [21, 22],\n",
              "        [23, 24]]], dtype=int32)>"
            ]
          },
          "metadata": {},
          "execution_count": 16
        }
      ]
    },
    {
      "cell_type": "markdown",
      "source": [
        "###getting information from tensors \n",
        "When dealing with tensors you probably want to be aware  of the following attributes :\n",
        "* shape \n",
        "* Rank\n",
        "* Axisi or demension\n",
        "* Size "
      ],
      "metadata": {
        "id": "AwlQ49FYUjOA"
      }
    },
    {
      "cell_type": "code",
      "source": [
        "#creating a rank 4 tenrs\n",
        "rank_4_tensor = tf.zeros(shape=[2,3,4,5])\n",
        "rank_4_tensor "
      ],
      "metadata": {
        "colab": {
          "base_uri": "https://localhost:8080/"
        },
        "id": "dW2YiHfgT5aU",
        "outputId": "06c6e6fe-4031-4761-c879-654456c685b1"
      },
      "execution_count": null,
      "outputs": [
        {
          "output_type": "execute_result",
          "data": {
            "text/plain": [
              "<tf.Tensor: shape=(2, 3, 4, 5), dtype=float32, numpy=\n",
              "array([[[[0., 0., 0., 0., 0.],\n",
              "         [0., 0., 0., 0., 0.],\n",
              "         [0., 0., 0., 0., 0.],\n",
              "         [0., 0., 0., 0., 0.]],\n",
              "\n",
              "        [[0., 0., 0., 0., 0.],\n",
              "         [0., 0., 0., 0., 0.],\n",
              "         [0., 0., 0., 0., 0.],\n",
              "         [0., 0., 0., 0., 0.]],\n",
              "\n",
              "        [[0., 0., 0., 0., 0.],\n",
              "         [0., 0., 0., 0., 0.],\n",
              "         [0., 0., 0., 0., 0.],\n",
              "         [0., 0., 0., 0., 0.]]],\n",
              "\n",
              "\n",
              "       [[[0., 0., 0., 0., 0.],\n",
              "         [0., 0., 0., 0., 0.],\n",
              "         [0., 0., 0., 0., 0.],\n",
              "         [0., 0., 0., 0., 0.]],\n",
              "\n",
              "        [[0., 0., 0., 0., 0.],\n",
              "         [0., 0., 0., 0., 0.],\n",
              "         [0., 0., 0., 0., 0.],\n",
              "         [0., 0., 0., 0., 0.]],\n",
              "\n",
              "        [[0., 0., 0., 0., 0.],\n",
              "         [0., 0., 0., 0., 0.],\n",
              "         [0., 0., 0., 0., 0.],\n",
              "         [0., 0., 0., 0., 0.]]]], dtype=float32)>"
            ]
          },
          "metadata": {},
          "execution_count": 17
        }
      ]
    },
    {
      "cell_type": "code",
      "source": [
        "### Get various attributs of our tensor\n",
        "print(\"Datatype of every elements :\" , rank_4_tensor.dtype)\n",
        "print(\"Number of dimensions (rand)\",rank_4_tensor.ndim)\n",
        "print(\"Shape of tensor : \",rank_4_tensor.shape)\n",
        "print(\"Total number of elemens : \",tf.size(rank_4_tensor).numpy())"
      ],
      "metadata": {
        "colab": {
          "base_uri": "https://localhost:8080/"
        },
        "id": "ayopkh2sVotv",
        "outputId": "355bfa10-3648-4b4d-d393-c588e5e43d2f"
      },
      "execution_count": null,
      "outputs": [
        {
          "output_type": "stream",
          "name": "stdout",
          "text": [
            "Datatype of every elements : <dtype: 'float32'>\n",
            "Number of dimensions (rand) 4\n",
            "Shape of tensor :  (2, 3, 4, 5)\n",
            "Total number of elemens :  120\n"
          ]
        }
      ]
    },
    {
      "cell_type": "markdown",
      "source": [
        "#indexing and expanding tensors\n",
        "*Tensors can be indexed just like python list"
      ],
      "metadata": {
        "id": "FmOuAB2ewVuO"
      }
    },
    {
      "cell_type": "code",
      "source": [
        "rank_4_tensor[:2,:2,:2,:2]"
      ],
      "metadata": {
        "colab": {
          "base_uri": "https://localhost:8080/"
        },
        "id": "iVtEup5hwaAy",
        "outputId": "e5a63e5c-b1fc-4bfb-d365-0de1c8ac6238"
      },
      "execution_count": null,
      "outputs": [
        {
          "output_type": "execute_result",
          "data": {
            "text/plain": [
              "<tf.Tensor: shape=(2, 2, 2, 2), dtype=float32, numpy=\n",
              "array([[[[0., 0.],\n",
              "         [0., 0.]],\n",
              "\n",
              "        [[0., 0.],\n",
              "         [0., 0.]]],\n",
              "\n",
              "\n",
              "       [[[0., 0.],\n",
              "         [0., 0.]],\n",
              "\n",
              "        [[0., 0.],\n",
              "         [0., 0.]]]], dtype=float32)>"
            ]
          },
          "metadata": {},
          "execution_count": 19
        }
      ]
    },
    {
      "cell_type": "markdown",
      "source": [
        "#Manipulation tensors\n",
        "**Basic opreations**"
      ],
      "metadata": {
        "id": "sRXC4vW60tYA"
      }
    },
    {
      "cell_type": "code",
      "source": [
        "#you cad add values to a tensor by using the addition operator\n",
        "tensor = tf.constant([[10,7],[7,3]])\n",
        "tensor + 2"
      ],
      "metadata": {
        "colab": {
          "base_uri": "https://localhost:8080/"
        },
        "id": "EkO4JVnkw3aY",
        "outputId": "8c2c9a26-35ba-4a40-b72b-055a095eb6bb"
      },
      "execution_count": null,
      "outputs": [
        {
          "output_type": "execute_result",
          "data": {
            "text/plain": [
              "<tf.Tensor: shape=(2, 2), dtype=int32, numpy=\n",
              "array([[12,  9],\n",
              "       [ 9,  5]], dtype=int32)>"
            ]
          },
          "metadata": {},
          "execution_count": 20
        }
      ]
    },
    {
      "cell_type": "markdown",
      "source": [
        "**Matrix Multiplication**"
      ],
      "metadata": {
        "id": "HGcQK8692QQd"
      }
    },
    {
      "cell_type": "code",
      "source": [
        "#matrix multiplication in tensorflow\n",
        "print(tensor)\n",
        "tf.matmul(tensor,tensor)"
      ],
      "metadata": {
        "colab": {
          "base_uri": "https://localhost:8080/"
        },
        "id": "76_77JzZ163E",
        "outputId": "8706e8d9-d554-43c4-a158-a9772d5239c1"
      },
      "execution_count": null,
      "outputs": [
        {
          "output_type": "stream",
          "name": "stdout",
          "text": [
            "tf.Tensor(\n",
            "[[10  7]\n",
            " [ 7  3]], shape=(2, 2), dtype=int32)\n"
          ]
        },
        {
          "output_type": "execute_result",
          "data": {
            "text/plain": [
              "<tf.Tensor: shape=(2, 2), dtype=int32, numpy=\n",
              "array([[149,  91],\n",
              "       [ 91,  58]], dtype=int32)>"
            ]
          },
          "metadata": {},
          "execution_count": 21
        }
      ]
    },
    {
      "cell_type": "code",
      "source": [
        "#to multiply two matrixes we use @ instead of *\n",
        "tensor @ tensor\n",
        "tensor"
      ],
      "metadata": {
        "colab": {
          "base_uri": "https://localhost:8080/"
        },
        "id": "zxLnQEF535uw",
        "outputId": "8ffa61b2-b679-45a6-a75e-557a48ea0a8f"
      },
      "execution_count": null,
      "outputs": [
        {
          "output_type": "execute_result",
          "data": {
            "text/plain": [
              "<tf.Tensor: shape=(2, 2), dtype=int32, numpy=\n",
              "array([[10,  7],\n",
              "       [ 7,  3]], dtype=int32)>"
            ]
          },
          "metadata": {},
          "execution_count": 22
        }
      ]
    },
    {
      "cell_type": "code",
      "source": [
        "#Perform matrix multiplication betwene X et Y (transposed)\n",
        "tensor = tf.constant([[10,7,4],[7,3,4],[12,5,8]])\n",
        "tf.transpose(tensor)"
      ],
      "metadata": {
        "colab": {
          "base_uri": "https://localhost:8080/"
        },
        "id": "tA7j0kCg8K0a",
        "outputId": "f86a6157-0a33-4860-dbcc-c07568e4065d"
      },
      "execution_count": null,
      "outputs": [
        {
          "output_type": "execute_result",
          "data": {
            "text/plain": [
              "<tf.Tensor: shape=(3, 3), dtype=int32, numpy=\n",
              "array([[10,  7, 12],\n",
              "       [ 7,  3,  5],\n",
              "       [ 4,  4,  8]], dtype=int32)>"
            ]
          },
          "metadata": {},
          "execution_count": 23
        }
      ]
    },
    {
      "cell_type": "markdown",
      "source": [
        "# Agregating tensors"
      ],
      "metadata": {
        "id": "vAS4gNbkclrU"
      }
    },
    {
      "cell_type": "code",
      "source": [
        "D  = tf.constant([\n",
        "  [[1, 2], [3, 4]],\n",
        "  [[1, 2], [3, 4]]\n",
        "])\n",
        "D\n",
        "tf.abs(D)"
      ],
      "metadata": {
        "id": "-6VksburYi79"
      },
      "execution_count": null,
      "outputs": []
    },
    {
      "cell_type": "code",
      "source": [
        "print(tf.math.reduce_max(D))#find the max\n",
        "print(tf.math.reduce_min(D))#find the min\n",
        "print(tf.math.reduce_mean(D))#find the mean\n",
        "print(tf.math.reduce_sum(D)) #find the sum\n",
        "print(tf.math.reduce_std(tf.cast(D,dtype=float32))) #find the deviation\n",
        "print(tf.math.reduce_variance(tf.cast(D,dtype=tf.float32))) #find the variance"
      ],
      "metadata": {
        "colab": {
          "base_uri": "https://localhost:8080/"
        },
        "id": "2g4saY9LdQNn",
        "outputId": "b84c8f1f-8fdc-4119-bcd0-577f78370f62"
      },
      "execution_count": null,
      "outputs": [
        {
          "output_type": "stream",
          "name": "stdout",
          "text": [
            "tf.Tensor(4, shape=(), dtype=int32)\n",
            "tf.Tensor(1, shape=(), dtype=int32)\n",
            "tf.Tensor(2, shape=(), dtype=int32)\n",
            "tf.Tensor(20, shape=(), dtype=int32)\n",
            "tf.Tensor(1.118034, shape=(), dtype=float32)\n",
            "tf.Tensor(1.25, shape=(), dtype=float32)\n"
          ]
        }
      ]
    },
    {
      "cell_type": "markdown",
      "source": [
        "**Finding the posittional of minimun or maximun**"
      ],
      "metadata": {
        "id": "1WWdAw44hRTB"
      }
    },
    {
      "cell_type": "code",
      "source": [
        "#create a new tensor for finding a minimun or a maximum\n",
        "tf.random.set_seed(43)\n",
        "F = tf.random.uniform(shape=[50])\n"
      ],
      "metadata": {
        "colab": {
          "base_uri": "https://localhost:8080/"
        },
        "id": "NEHB5uBQdQIM",
        "outputId": "8d30d1a0-8645-429a-a456-ad35952b5907"
      },
      "execution_count": null,
      "outputs": [
        {
          "output_type": "execute_result",
          "data": {
            "text/plain": [
              "<tf.Tensor: shape=(50,), dtype=float32, numpy=\n",
              "array([0.2733041 , 0.5020257 , 0.6628481 , 0.6473899 , 0.3857293 ,\n",
              "       0.36172044, 0.5412978 , 0.48597205, 0.8773687 , 0.19192028,\n",
              "       0.9264002 , 0.89626896, 0.6672703 , 0.47216296, 0.22052324,\n",
              "       0.88224113, 0.21332026, 0.3742751 , 0.6198429 , 0.67401516,\n",
              "       0.33629417, 0.04864144, 0.00223255, 0.9375315 , 0.1595205 ,\n",
              "       0.76488817, 0.5631764 , 0.48775423, 0.4250028 , 0.29910493,\n",
              "       0.8409952 , 0.6727512 , 0.00153816, 0.4085456 , 0.9261861 ,\n",
              "       0.18742752, 0.60272205, 0.99417937, 0.42423892, 0.27978897,\n",
              "       0.9430332 , 0.80545497, 0.06359637, 0.56783044, 0.26592016,\n",
              "       0.98973536, 0.5452112 , 0.11514163, 0.53635466, 0.6935723 ],\n",
              "      dtype=float32)>"
            ]
          },
          "metadata": {},
          "execution_count": 41
        }
      ]
    },
    {
      "cell_type": "code",
      "source": [
        "#find the positional of the maximum\n",
        "\n",
        "tf.math.reduce_max(F)\n",
        "tf.argmax(F)"
      ],
      "metadata": {
        "colab": {
          "base_uri": "https://localhost:8080/"
        },
        "id": "lSMT36F9isiO",
        "outputId": "39dc7cd8-d11e-4f08-a7b1-4999c7e4f53a"
      },
      "execution_count": null,
      "outputs": [
        {
          "output_type": "execute_result",
          "data": {
            "text/plain": [
              "<tf.Tensor: shape=(), dtype=int64, numpy=37>"
            ]
          },
          "metadata": {},
          "execution_count": 44
        }
      ]
    },
    {
      "cell_type": "code",
      "source": [
        "F[tf.argmax(F)]"
      ],
      "metadata": {
        "colab": {
          "base_uri": "https://localhost:8080/"
        },
        "id": "iEIHk0JxjW9J",
        "outputId": "e77c2292-25e9-45c3-baa1-25ab66bdba4a"
      },
      "execution_count": null,
      "outputs": [
        {
          "output_type": "execute_result",
          "data": {
            "text/plain": [
              "<tf.Tensor: shape=(), dtype=float32, numpy=0.99417937>"
            ]
          },
          "metadata": {},
          "execution_count": 46
        }
      ]
    },
    {
      "cell_type": "markdown",
      "source": [
        "#Squeezing a tensor (removing all single dimensions "
      ],
      "metadata": {
        "id": "vhF_CHmtj2DY"
      }
    },
    {
      "cell_type": "code",
      "source": [
        "tf.random.set_seed(43)\n",
        "G = tf.constant(tf.random.uniform(shape=[50] ),shape=(1,1,1,1,50))"
      ],
      "metadata": {
        "id": "MEGRcm57j-7u"
      },
      "execution_count": null,
      "outputs": []
    },
    {
      "cell_type": "markdown",
      "source": [
        "#one-hot incoding"
      ],
      "metadata": {
        "id": "ZKhARt_ynKsP"
      }
    },
    {
      "cell_type": "code",
      "source": [
        "#create a list of indices \n",
        "some_list = [0,1,2,3]\n",
        "tf.one_hot(some_list , depth=4)"
      ],
      "metadata": {
        "colab": {
          "base_uri": "https://localhost:8080/"
        },
        "id": "dDrw5Zn3nPJI",
        "outputId": "65fd5dd6-6a78-4edd-9973-913d7e900a53"
      },
      "execution_count": null,
      "outputs": [
        {
          "output_type": "execute_result",
          "data": {
            "text/plain": [
              "<tf.Tensor: shape=(4, 4), dtype=float32, numpy=\n",
              "array([[1., 0., 0., 0.],\n",
              "       [0., 1., 0., 0.],\n",
              "       [0., 0., 1., 0.],\n",
              "       [0., 0., 0., 1.]], dtype=float32)>"
            ]
          },
          "metadata": {},
          "execution_count": 52
        }
      ]
    },
    {
      "cell_type": "code",
      "source": [
        "#specify custom values for one hot_encoding\n",
        "tf.one_hot(some_list , depth=4, on_value=\"you I love deep learnig \",off_value=\"I also like to play soccer\")"
      ],
      "metadata": {
        "colab": {
          "base_uri": "https://localhost:8080/"
        },
        "id": "zl-70nrboG2T",
        "outputId": "5e90dc6c-c12c-4427-bd9e-0417f5958ec8"
      },
      "execution_count": null,
      "outputs": [
        {
          "output_type": "execute_result",
          "data": {
            "text/plain": [
              "<tf.Tensor: shape=(4, 4), dtype=string, numpy=\n",
              "array([[b'you I love deep learnig ', b'I also like to play soccer',\n",
              "        b'I also like to play soccer', b'I also like to play soccer'],\n",
              "       [b'I also like to play soccer', b'you I love deep learnig ',\n",
              "        b'I also like to play soccer', b'I also like to play soccer'],\n",
              "       [b'I also like to play soccer', b'I also like to play soccer',\n",
              "        b'you I love deep learnig ', b'I also like to play soccer'],\n",
              "       [b'I also like to play soccer', b'I also like to play soccer',\n",
              "        b'I also like to play soccer', b'you I love deep learnig ']],\n",
              "      dtype=object)>"
            ]
          },
          "metadata": {},
          "execution_count": 54
        }
      ]
    },
    {
      "cell_type": "code",
      "source": [
        "some_text = ['reg','green','blue']\n",
        "tf.one_hot(some_list, depth=4 , axis=0)"
      ],
      "metadata": {
        "colab": {
          "base_uri": "https://localhost:8080/"
        },
        "id": "oAYu-OXfo2dE",
        "outputId": "9cef809d-4b4c-4fb4-efd2-4f68d96ca482"
      },
      "execution_count": null,
      "outputs": [
        {
          "output_type": "execute_result",
          "data": {
            "text/plain": [
              "<tf.Tensor: shape=(4, 4), dtype=float32, numpy=\n",
              "array([[1., 0., 0., 0.],\n",
              "       [0., 1., 0., 0.],\n",
              "       [0., 0., 1., 0.],\n",
              "       [0., 0., 0., 1.]], dtype=float32)>"
            ]
          },
          "metadata": {},
          "execution_count": 57
        }
      ]
    }
  ]
}